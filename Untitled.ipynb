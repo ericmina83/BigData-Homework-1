{
 "cells": [
  {
   "cell_type": "code",
   "execution_count": 2,
   "metadata": {
    "collapsed": true
   },
   "outputs": [],
   "source": [
    "import xgboost as xgb\n",
    "import pandas as pd\n",
    "import numpy as np"
   ]
  },
  {
   "cell_type": "code",
   "execution_count": 45,
   "metadata": {},
   "outputs": [
    {
     "data": {
      "text/plain": [
       "XGBClassifier(base_score=0.5, booster='gbtree', colsample_bylevel=1,\n",
       "       colsample_bytree=1, gamma=0, learning_rate=0.1, max_delta_step=0,\n",
       "       max_depth=3, min_child_weight=1, missing=None, n_estimators=100,\n",
       "       nthread=-1, objective='multi:softprob', reg_alpha=0, reg_lambda=1,\n",
       "       scale_pos_weight=1, seed=0, silent=True, subsample=1)"
      ]
     },
     "execution_count": 45,
     "metadata": {},
     "output_type": "execute_result"
    }
   ],
   "source": [
    "data = pd.read_csv(\"LargeTrain.csv\")\n",
    "\n",
    "X = np.array(data.iloc[:,0:1804])\n",
    "y = np.array(data.iloc[:,1804:1805]).ravel()\n",
    "\n",
    "reg = xgb.XGBClassifier()\n",
    "reg.fit(X, y)"
   ]
  },
  {
   "cell_type": "code",
   "execution_count": 46,
   "metadata": {},
   "outputs": [
    {
     "name": "stdout",
     "output_type": "stream",
     "text": [
      "Feature ranking:\n",
      "1. feature 306 (0.059555) \tsection_names_header\n",
      "2. feature 1493 (0.037984) \tOffset.1\n",
      "3. feature 297 (0.017351) \tEntropy\n",
      "4. feature 19 (0.015709) \tDATA\n",
      "5. feature 1497 (0.015709) \tdc_por\n",
      "6. feature 119 (0.014771) \tent_q_diffs_max\n",
      "7. feature 468 (0.014537) \tVirtualAlloc\n",
      "8. feature 1117 (0.014302) \tTB_00\n",
      "9. feature 37 (0.013365) \tDllEntryPoint\n",
      "10. feature 1430 (0.012661) \tasm_commands_jnb\n"
     ]
    }
   ],
   "source": [
    "importances = reg.feature_importances_\n",
    "indices = np.argsort(importances)[::-1]\n",
    "\n",
    "# Print the feature ranking\n",
    "print(\"Feature ranking:\")\n",
    "\n",
    "for f in range(10):\n",
    "    print(\"%d. feature %d (%f) \\t%s\" % (f + 1, indices[f], importances[indices[f]], data.columns[indices[f]]))\n",
    "    "
   ]
  },
  {
   "cell_type": "code",
   "execution_count": null,
   "metadata": {
    "collapsed": true
   },
   "outputs": [],
   "source": [
    "from sklearn.metrics import confusion_matrix\n",
    "X_new = X[:,indices[0:10]]\n",
    "forest_new = RandomForestClassifier(n_estimators=10)\n",
    "forest_new = forest_new.fit(X_new, y)\n",
    "\n",
    "y_pred = forest_new.predict(X_new)\n",
    "cnf_matrix = confusion_matrix(y, y_pred)\n",
    "\n",
    "print cnf_matrix"
   ]
  },
  {
   "cell_type": "code",
   "execution_count": null,
   "metadata": {
    "collapsed": true
   },
   "outputs": [],
   "source": []
  }
 ],
 "metadata": {
  "kernelspec": {
   "display_name": "Python 3",
   "language": "python",
   "name": "python3"
  },
  "language_info": {
   "codemirror_mode": {
    "name": "ipython",
    "version": 3
   },
   "file_extension": ".py",
   "mimetype": "text/x-python",
   "name": "python",
   "nbconvert_exporter": "python",
   "pygments_lexer": "ipython3",
   "version": "3.5.3"
  }
 },
 "nbformat": 4,
 "nbformat_minor": 2
}
